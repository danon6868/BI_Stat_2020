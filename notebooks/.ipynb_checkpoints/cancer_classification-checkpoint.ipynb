{
 "cells": [
  {
   "cell_type": "markdown",
   "metadata": {},
   "source": [
    "# Classification of two cancer types based on gene expression"
   ]
  },
  {
   "cell_type": "markdown",
   "metadata": {},
   "source": [
    "The dataset showes how new cases of cancer could be classified by gene expression monitoring (via DNA microarray) and thereby provided a general approach for identifying new cancer classes and assigning tumors to known classes. These data were used to classify patients with acute myeloid leukemia (AML) and acute lymphoblastic leukemia (ALL)."
   ]
  },
  {
   "cell_type": "code",
   "execution_count": 390,
   "metadata": {},
   "outputs": [],
   "source": [
    "import pandas as pd\n",
    "import numpy as np\n",
    "import matplotlib.pyplot as plt\n",
    "import seaborn as sns\n",
    "import warnings\n",
    "import random\n",
    "import xgboost as xgb\n",
    "import os\n",
    "from sklearn.neighbors import KNeighborsClassifier\n",
    "from sklearn.ensemble import RandomForestClassifier\n",
    "from sklearn.linear_model import LogisticRegression\n",
    "from sklearn.model_selection import GridSearchCV\n",
    "from sklearn import metrics\n",
    "from sklearn.preprocessing import StandardScaler, LabelEncoder\n",
    "from sklearn.decomposition import PCA\n",
    "from sklearn.cluster import KMeans\n",
    "from scipy.cluster.hierarchy import dendrogram, linkage, fcluster\n",
    "from sklearn.naive_bayes import GaussianNB\n",
    "from sklearn.ensemble import VotingClassifier"
   ]
  },
  {
   "cell_type": "code",
   "execution_count": 2,
   "metadata": {},
   "outputs": [],
   "source": [
    "warnings.filterwarnings(\"ignore\")"
   ]
  },
  {
   "cell_type": "code",
   "execution_count": 3,
   "metadata": {},
   "outputs": [],
   "source": [
    "DATA_FOLDER = os.path.join(\"..\", \"data/\")\n",
    "params = {'legend.fontsize': 'x-large',\n",
    "          'figure.figsize': (15, 10),\n",
    "         'axes.labelsize': 'x-large',\n",
    "         'axes.titlesize':'x-large',\n",
    "         'xtick.labelsize':'x-large',\n",
    "         'ytick.labelsize':'x-large'}\n",
    "plt.rcParams.update(params)\n",
    "sns.set_theme(style=\"darkgrid\")\n",
    "np.random.seed(42)"
   ]
  },
  {
   "cell_type": "code",
   "execution_count": 4,
   "metadata": {},
   "outputs": [],
   "source": [
    "le = LabelEncoder()"
   ]
  },
  {
   "cell_type": "markdown",
   "metadata": {},
   "source": [
    "### Load data"
   ]
  },
  {
   "cell_type": "code",
   "execution_count": 5,
   "metadata": {},
   "outputs": [],
   "source": [
    "train_data = pd.read_csv(f\"{DATA_FOLDER}data_set_ALL_AML_train.csv\")\n",
    "test_data = pd.read_csv(f\"{DATA_FOLDER}data_set_ALL_AML_independent.csv\")\n",
    "labels = pd.read_csv(f\"{DATA_FOLDER}actual.csv\")"
   ]
  },
  {
   "cell_type": "code",
   "execution_count": 6,
   "metadata": {},
   "outputs": [
    {
     "data": {
      "text/html": [
       "<div>\n",
       "<style scoped>\n",
       "    .dataframe tbody tr th:only-of-type {\n",
       "        vertical-align: middle;\n",
       "    }\n",
       "\n",
       "    .dataframe tbody tr th {\n",
       "        vertical-align: top;\n",
       "    }\n",
       "\n",
       "    .dataframe thead th {\n",
       "        text-align: right;\n",
       "    }\n",
       "</style>\n",
       "<table border=\"1\" class=\"dataframe\">\n",
       "  <thead>\n",
       "    <tr style=\"text-align: right;\">\n",
       "      <th></th>\n",
       "      <th>Gene Description</th>\n",
       "      <th>Gene Accession Number</th>\n",
       "      <th>1</th>\n",
       "      <th>call</th>\n",
       "      <th>2</th>\n",
       "      <th>call.1</th>\n",
       "      <th>3</th>\n",
       "      <th>call.2</th>\n",
       "      <th>4</th>\n",
       "      <th>call.3</th>\n",
       "      <th>...</th>\n",
       "      <th>29</th>\n",
       "      <th>call.33</th>\n",
       "      <th>30</th>\n",
       "      <th>call.34</th>\n",
       "      <th>31</th>\n",
       "      <th>call.35</th>\n",
       "      <th>32</th>\n",
       "      <th>call.36</th>\n",
       "      <th>33</th>\n",
       "      <th>call.37</th>\n",
       "    </tr>\n",
       "  </thead>\n",
       "  <tbody>\n",
       "    <tr>\n",
       "      <th>0</th>\n",
       "      <td>AFFX-BioB-5_at (endogenous control)</td>\n",
       "      <td>AFFX-BioB-5_at</td>\n",
       "      <td>-214</td>\n",
       "      <td>A</td>\n",
       "      <td>-139</td>\n",
       "      <td>A</td>\n",
       "      <td>-76</td>\n",
       "      <td>A</td>\n",
       "      <td>-135</td>\n",
       "      <td>A</td>\n",
       "      <td>...</td>\n",
       "      <td>15</td>\n",
       "      <td>A</td>\n",
       "      <td>-318</td>\n",
       "      <td>A</td>\n",
       "      <td>-32</td>\n",
       "      <td>A</td>\n",
       "      <td>-124</td>\n",
       "      <td>A</td>\n",
       "      <td>-135</td>\n",
       "      <td>A</td>\n",
       "    </tr>\n",
       "    <tr>\n",
       "      <th>1</th>\n",
       "      <td>AFFX-BioB-M_at (endogenous control)</td>\n",
       "      <td>AFFX-BioB-M_at</td>\n",
       "      <td>-153</td>\n",
       "      <td>A</td>\n",
       "      <td>-73</td>\n",
       "      <td>A</td>\n",
       "      <td>-49</td>\n",
       "      <td>A</td>\n",
       "      <td>-114</td>\n",
       "      <td>A</td>\n",
       "      <td>...</td>\n",
       "      <td>-114</td>\n",
       "      <td>A</td>\n",
       "      <td>-192</td>\n",
       "      <td>A</td>\n",
       "      <td>-49</td>\n",
       "      <td>A</td>\n",
       "      <td>-79</td>\n",
       "      <td>A</td>\n",
       "      <td>-186</td>\n",
       "      <td>A</td>\n",
       "    </tr>\n",
       "    <tr>\n",
       "      <th>2</th>\n",
       "      <td>AFFX-BioB-3_at (endogenous control)</td>\n",
       "      <td>AFFX-BioB-3_at</td>\n",
       "      <td>-58</td>\n",
       "      <td>A</td>\n",
       "      <td>-1</td>\n",
       "      <td>A</td>\n",
       "      <td>-307</td>\n",
       "      <td>A</td>\n",
       "      <td>265</td>\n",
       "      <td>A</td>\n",
       "      <td>...</td>\n",
       "      <td>2</td>\n",
       "      <td>A</td>\n",
       "      <td>-95</td>\n",
       "      <td>A</td>\n",
       "      <td>49</td>\n",
       "      <td>A</td>\n",
       "      <td>-37</td>\n",
       "      <td>A</td>\n",
       "      <td>-70</td>\n",
       "      <td>A</td>\n",
       "    </tr>\n",
       "    <tr>\n",
       "      <th>3</th>\n",
       "      <td>AFFX-BioC-5_at (endogenous control)</td>\n",
       "      <td>AFFX-BioC-5_at</td>\n",
       "      <td>88</td>\n",
       "      <td>A</td>\n",
       "      <td>283</td>\n",
       "      <td>A</td>\n",
       "      <td>309</td>\n",
       "      <td>A</td>\n",
       "      <td>12</td>\n",
       "      <td>A</td>\n",
       "      <td>...</td>\n",
       "      <td>193</td>\n",
       "      <td>A</td>\n",
       "      <td>312</td>\n",
       "      <td>A</td>\n",
       "      <td>230</td>\n",
       "      <td>P</td>\n",
       "      <td>330</td>\n",
       "      <td>A</td>\n",
       "      <td>337</td>\n",
       "      <td>A</td>\n",
       "    </tr>\n",
       "    <tr>\n",
       "      <th>4</th>\n",
       "      <td>AFFX-BioC-3_at (endogenous control)</td>\n",
       "      <td>AFFX-BioC-3_at</td>\n",
       "      <td>-295</td>\n",
       "      <td>A</td>\n",
       "      <td>-264</td>\n",
       "      <td>A</td>\n",
       "      <td>-376</td>\n",
       "      <td>A</td>\n",
       "      <td>-419</td>\n",
       "      <td>A</td>\n",
       "      <td>...</td>\n",
       "      <td>-51</td>\n",
       "      <td>A</td>\n",
       "      <td>-139</td>\n",
       "      <td>A</td>\n",
       "      <td>-367</td>\n",
       "      <td>A</td>\n",
       "      <td>-188</td>\n",
       "      <td>A</td>\n",
       "      <td>-407</td>\n",
       "      <td>A</td>\n",
       "    </tr>\n",
       "  </tbody>\n",
       "</table>\n",
       "<p>5 rows × 78 columns</p>\n",
       "</div>"
      ],
      "text/plain": [
       "                      Gene Description Gene Accession Number    1 call    2  \\\n",
       "0  AFFX-BioB-5_at (endogenous control)        AFFX-BioB-5_at -214    A -139   \n",
       "1  AFFX-BioB-M_at (endogenous control)        AFFX-BioB-M_at -153    A  -73   \n",
       "2  AFFX-BioB-3_at (endogenous control)        AFFX-BioB-3_at  -58    A   -1   \n",
       "3  AFFX-BioC-5_at (endogenous control)        AFFX-BioC-5_at   88    A  283   \n",
       "4  AFFX-BioC-3_at (endogenous control)        AFFX-BioC-3_at -295    A -264   \n",
       "\n",
       "  call.1    3 call.2    4 call.3  ...   29 call.33   30 call.34   31 call.35  \\\n",
       "0      A  -76      A -135      A  ...   15       A -318       A  -32       A   \n",
       "1      A  -49      A -114      A  ... -114       A -192       A  -49       A   \n",
       "2      A -307      A  265      A  ...    2       A  -95       A   49       A   \n",
       "3      A  309      A   12      A  ...  193       A  312       A  230       P   \n",
       "4      A -376      A -419      A  ...  -51       A -139       A -367       A   \n",
       "\n",
       "    32 call.36   33 call.37  \n",
       "0 -124       A -135       A  \n",
       "1  -79       A -186       A  \n",
       "2  -37       A  -70       A  \n",
       "3  330       A  337       A  \n",
       "4 -188       A -407       A  \n",
       "\n",
       "[5 rows x 78 columns]"
      ]
     },
     "execution_count": 6,
     "metadata": {},
     "output_type": "execute_result"
    }
   ],
   "source": [
    "train_data.head()"
   ]
  },
  {
   "cell_type": "code",
   "execution_count": 7,
   "metadata": {},
   "outputs": [
    {
     "data": {
      "text/html": [
       "<div>\n",
       "<style scoped>\n",
       "    .dataframe tbody tr th:only-of-type {\n",
       "        vertical-align: middle;\n",
       "    }\n",
       "\n",
       "    .dataframe tbody tr th {\n",
       "        vertical-align: top;\n",
       "    }\n",
       "\n",
       "    .dataframe thead th {\n",
       "        text-align: right;\n",
       "    }\n",
       "</style>\n",
       "<table border=\"1\" class=\"dataframe\">\n",
       "  <thead>\n",
       "    <tr style=\"text-align: right;\">\n",
       "      <th></th>\n",
       "      <th>Gene Description</th>\n",
       "      <th>Gene Accession Number</th>\n",
       "      <th>39</th>\n",
       "      <th>call</th>\n",
       "      <th>40</th>\n",
       "      <th>call.1</th>\n",
       "      <th>42</th>\n",
       "      <th>call.2</th>\n",
       "      <th>47</th>\n",
       "      <th>call.3</th>\n",
       "      <th>...</th>\n",
       "      <th>65</th>\n",
       "      <th>call.29</th>\n",
       "      <th>66</th>\n",
       "      <th>call.30</th>\n",
       "      <th>63</th>\n",
       "      <th>call.31</th>\n",
       "      <th>64</th>\n",
       "      <th>call.32</th>\n",
       "      <th>62</th>\n",
       "      <th>call.33</th>\n",
       "    </tr>\n",
       "  </thead>\n",
       "  <tbody>\n",
       "    <tr>\n",
       "      <th>0</th>\n",
       "      <td>AFFX-BioB-5_at (endogenous control)</td>\n",
       "      <td>AFFX-BioB-5_at</td>\n",
       "      <td>-342</td>\n",
       "      <td>A</td>\n",
       "      <td>-87</td>\n",
       "      <td>A</td>\n",
       "      <td>22</td>\n",
       "      <td>A</td>\n",
       "      <td>-243</td>\n",
       "      <td>A</td>\n",
       "      <td>...</td>\n",
       "      <td>-62</td>\n",
       "      <td>A</td>\n",
       "      <td>-58</td>\n",
       "      <td>A</td>\n",
       "      <td>-161</td>\n",
       "      <td>A</td>\n",
       "      <td>-48</td>\n",
       "      <td>A</td>\n",
       "      <td>-176</td>\n",
       "      <td>A</td>\n",
       "    </tr>\n",
       "    <tr>\n",
       "      <th>1</th>\n",
       "      <td>AFFX-BioB-M_at (endogenous control)</td>\n",
       "      <td>AFFX-BioB-M_at</td>\n",
       "      <td>-200</td>\n",
       "      <td>A</td>\n",
       "      <td>-248</td>\n",
       "      <td>A</td>\n",
       "      <td>-153</td>\n",
       "      <td>A</td>\n",
       "      <td>-218</td>\n",
       "      <td>A</td>\n",
       "      <td>...</td>\n",
       "      <td>-198</td>\n",
       "      <td>A</td>\n",
       "      <td>-217</td>\n",
       "      <td>A</td>\n",
       "      <td>-215</td>\n",
       "      <td>A</td>\n",
       "      <td>-531</td>\n",
       "      <td>A</td>\n",
       "      <td>-284</td>\n",
       "      <td>A</td>\n",
       "    </tr>\n",
       "    <tr>\n",
       "      <th>2</th>\n",
       "      <td>AFFX-BioB-3_at (endogenous control)</td>\n",
       "      <td>AFFX-BioB-3_at</td>\n",
       "      <td>41</td>\n",
       "      <td>A</td>\n",
       "      <td>262</td>\n",
       "      <td>A</td>\n",
       "      <td>17</td>\n",
       "      <td>A</td>\n",
       "      <td>-163</td>\n",
       "      <td>A</td>\n",
       "      <td>...</td>\n",
       "      <td>-5</td>\n",
       "      <td>A</td>\n",
       "      <td>63</td>\n",
       "      <td>A</td>\n",
       "      <td>-46</td>\n",
       "      <td>A</td>\n",
       "      <td>-124</td>\n",
       "      <td>A</td>\n",
       "      <td>-81</td>\n",
       "      <td>A</td>\n",
       "    </tr>\n",
       "    <tr>\n",
       "      <th>3</th>\n",
       "      <td>AFFX-BioC-5_at (endogenous control)</td>\n",
       "      <td>AFFX-BioC-5_at</td>\n",
       "      <td>328</td>\n",
       "      <td>A</td>\n",
       "      <td>295</td>\n",
       "      <td>A</td>\n",
       "      <td>276</td>\n",
       "      <td>A</td>\n",
       "      <td>182</td>\n",
       "      <td>A</td>\n",
       "      <td>...</td>\n",
       "      <td>141</td>\n",
       "      <td>A</td>\n",
       "      <td>95</td>\n",
       "      <td>A</td>\n",
       "      <td>146</td>\n",
       "      <td>A</td>\n",
       "      <td>431</td>\n",
       "      <td>A</td>\n",
       "      <td>9</td>\n",
       "      <td>A</td>\n",
       "    </tr>\n",
       "    <tr>\n",
       "      <th>4</th>\n",
       "      <td>AFFX-BioC-3_at (endogenous control)</td>\n",
       "      <td>AFFX-BioC-3_at</td>\n",
       "      <td>-224</td>\n",
       "      <td>A</td>\n",
       "      <td>-226</td>\n",
       "      <td>A</td>\n",
       "      <td>-211</td>\n",
       "      <td>A</td>\n",
       "      <td>-289</td>\n",
       "      <td>A</td>\n",
       "      <td>...</td>\n",
       "      <td>-256</td>\n",
       "      <td>A</td>\n",
       "      <td>-191</td>\n",
       "      <td>A</td>\n",
       "      <td>-172</td>\n",
       "      <td>A</td>\n",
       "      <td>-496</td>\n",
       "      <td>A</td>\n",
       "      <td>-294</td>\n",
       "      <td>A</td>\n",
       "    </tr>\n",
       "  </tbody>\n",
       "</table>\n",
       "<p>5 rows × 70 columns</p>\n",
       "</div>"
      ],
      "text/plain": [
       "                      Gene Description Gene Accession Number   39 call   40  \\\n",
       "0  AFFX-BioB-5_at (endogenous control)        AFFX-BioB-5_at -342    A  -87   \n",
       "1  AFFX-BioB-M_at (endogenous control)        AFFX-BioB-M_at -200    A -248   \n",
       "2  AFFX-BioB-3_at (endogenous control)        AFFX-BioB-3_at   41    A  262   \n",
       "3  AFFX-BioC-5_at (endogenous control)        AFFX-BioC-5_at  328    A  295   \n",
       "4  AFFX-BioC-3_at (endogenous control)        AFFX-BioC-3_at -224    A -226   \n",
       "\n",
       "  call.1   42 call.2   47 call.3  ...   65 call.29   66 call.30   63 call.31  \\\n",
       "0      A   22      A -243      A  ...  -62       A  -58       A -161       A   \n",
       "1      A -153      A -218      A  ... -198       A -217       A -215       A   \n",
       "2      A   17      A -163      A  ...   -5       A   63       A  -46       A   \n",
       "3      A  276      A  182      A  ...  141       A   95       A  146       A   \n",
       "4      A -211      A -289      A  ... -256       A -191       A -172       A   \n",
       "\n",
       "    64 call.32   62 call.33  \n",
       "0  -48       A -176       A  \n",
       "1 -531       A -284       A  \n",
       "2 -124       A  -81       A  \n",
       "3  431       A    9       A  \n",
       "4 -496       A -294       A  \n",
       "\n",
       "[5 rows x 70 columns]"
      ]
     },
     "execution_count": 7,
     "metadata": {},
     "output_type": "execute_result"
    }
   ],
   "source": [
    "test_data.head()"
   ]
  },
  {
   "cell_type": "markdown",
   "metadata": {},
   "source": [
    "### Check NAs"
   ]
  },
  {
   "cell_type": "code",
   "execution_count": 8,
   "metadata": {},
   "outputs": [
    {
     "name": "stdout",
     "output_type": "stream",
     "text": [
      "Train data has 0 NAs\n",
      "Test data has 0 NAs\n"
     ]
    }
   ],
   "source": [
    "print(f\"Train data has {train_data.isna().sum().sum()} NAs\")\n",
    "print(f\"Test data has {test_data.isna().sum().sum()} NAs\")"
   ]
  },
  {
   "cell_type": "markdown",
   "metadata": {},
   "source": [
    "## EDA and data preprocessing"
   ]
  },
  {
   "cell_type": "markdown",
   "metadata": {},
   "source": [
    "It seems like **call** columns have \"A\" almost everywhere, so I will drop it."
   ]
  },
  {
   "cell_type": "code",
   "execution_count": 9,
   "metadata": {},
   "outputs": [],
   "source": [
    "cols_train = [col for col in train_data.columns if \"call\" in col]\n",
    "cols_test = [col for col in test_data.columns if \"call\" in col]\n",
    "train_data.drop(cols_train, axis=1, inplace=True)\n",
    "test_data.drop(cols_test, axis=1, inplace=True)"
   ]
  },
  {
   "cell_type": "markdown",
   "metadata": {},
   "source": [
    "Here we have features in rows and patients in cols, so we need to transpose data."
   ]
  },
  {
   "cell_type": "code",
   "execution_count": 10,
   "metadata": {},
   "outputs": [],
   "source": [
    "train_data = train_data.T\n",
    "test_data = test_data.T"
   ]
  },
  {
   "cell_type": "code",
   "execution_count": 11,
   "metadata": {},
   "outputs": [
    {
     "data": {
      "text/html": [
       "<div>\n",
       "<style scoped>\n",
       "    .dataframe tbody tr th:only-of-type {\n",
       "        vertical-align: middle;\n",
       "    }\n",
       "\n",
       "    .dataframe tbody tr th {\n",
       "        vertical-align: top;\n",
       "    }\n",
       "\n",
       "    .dataframe thead th {\n",
       "        text-align: right;\n",
       "    }\n",
       "</style>\n",
       "<table border=\"1\" class=\"dataframe\">\n",
       "  <thead>\n",
       "    <tr style=\"text-align: right;\">\n",
       "      <th></th>\n",
       "      <th>0</th>\n",
       "      <th>1</th>\n",
       "      <th>2</th>\n",
       "      <th>3</th>\n",
       "      <th>4</th>\n",
       "      <th>5</th>\n",
       "      <th>6</th>\n",
       "      <th>7</th>\n",
       "      <th>8</th>\n",
       "      <th>9</th>\n",
       "      <th>...</th>\n",
       "      <th>7119</th>\n",
       "      <th>7120</th>\n",
       "      <th>7121</th>\n",
       "      <th>7122</th>\n",
       "      <th>7123</th>\n",
       "      <th>7124</th>\n",
       "      <th>7125</th>\n",
       "      <th>7126</th>\n",
       "      <th>7127</th>\n",
       "      <th>7128</th>\n",
       "    </tr>\n",
       "  </thead>\n",
       "  <tbody>\n",
       "    <tr>\n",
       "      <th>Gene Description</th>\n",
       "      <td>AFFX-BioB-5_at (endogenous control)</td>\n",
       "      <td>AFFX-BioB-M_at (endogenous control)</td>\n",
       "      <td>AFFX-BioB-3_at (endogenous control)</td>\n",
       "      <td>AFFX-BioC-5_at (endogenous control)</td>\n",
       "      <td>AFFX-BioC-3_at (endogenous control)</td>\n",
       "      <td>AFFX-BioDn-5_at (endogenous control)</td>\n",
       "      <td>AFFX-BioDn-3_at (endogenous control)</td>\n",
       "      <td>AFFX-CreX-5_at (endogenous control)</td>\n",
       "      <td>AFFX-CreX-3_at (endogenous control)</td>\n",
       "      <td>AFFX-BioB-5_st (endogenous control)</td>\n",
       "      <td>...</td>\n",
       "      <td>Transcription factor Stat5b (stat5b) mRNA</td>\n",
       "      <td>Breast epithelial antigen BA46 mRNA</td>\n",
       "      <td>GB DEF = Calcium/calmodulin-dependent protein ...</td>\n",
       "      <td>TUBULIN ALPHA-4 CHAIN</td>\n",
       "      <td>CYP4B1 Cytochrome P450; subfamily IVB; polypep...</td>\n",
       "      <td>PTGER3 Prostaglandin E receptor 3 (subtype EP3...</td>\n",
       "      <td>HMG2 High-mobility group (nonhistone chromosom...</td>\n",
       "      <td>RB1 Retinoblastoma 1 (including osteosarcoma)</td>\n",
       "      <td>GB DEF = Glycophorin Sta (type A) exons 3 and ...</td>\n",
       "      <td>GB DEF = mRNA (clone 1A7)</td>\n",
       "    </tr>\n",
       "    <tr>\n",
       "      <th>Gene Accession Number</th>\n",
       "      <td>AFFX-BioB-5_at</td>\n",
       "      <td>AFFX-BioB-M_at</td>\n",
       "      <td>AFFX-BioB-3_at</td>\n",
       "      <td>AFFX-BioC-5_at</td>\n",
       "      <td>AFFX-BioC-3_at</td>\n",
       "      <td>AFFX-BioDn-5_at</td>\n",
       "      <td>AFFX-BioDn-3_at</td>\n",
       "      <td>AFFX-CreX-5_at</td>\n",
       "      <td>AFFX-CreX-3_at</td>\n",
       "      <td>AFFX-BioB-5_st</td>\n",
       "      <td>...</td>\n",
       "      <td>U48730_at</td>\n",
       "      <td>U58516_at</td>\n",
       "      <td>U73738_at</td>\n",
       "      <td>X06956_at</td>\n",
       "      <td>X16699_at</td>\n",
       "      <td>X83863_at</td>\n",
       "      <td>Z17240_at</td>\n",
       "      <td>L49218_f_at</td>\n",
       "      <td>M71243_f_at</td>\n",
       "      <td>Z78285_f_at</td>\n",
       "    </tr>\n",
       "    <tr>\n",
       "      <th>1</th>\n",
       "      <td>-214</td>\n",
       "      <td>-153</td>\n",
       "      <td>-58</td>\n",
       "      <td>88</td>\n",
       "      <td>-295</td>\n",
       "      <td>-558</td>\n",
       "      <td>199</td>\n",
       "      <td>-176</td>\n",
       "      <td>252</td>\n",
       "      <td>206</td>\n",
       "      <td>...</td>\n",
       "      <td>185</td>\n",
       "      <td>511</td>\n",
       "      <td>-125</td>\n",
       "      <td>389</td>\n",
       "      <td>-37</td>\n",
       "      <td>793</td>\n",
       "      <td>329</td>\n",
       "      <td>36</td>\n",
       "      <td>191</td>\n",
       "      <td>-37</td>\n",
       "    </tr>\n",
       "    <tr>\n",
       "      <th>2</th>\n",
       "      <td>-139</td>\n",
       "      <td>-73</td>\n",
       "      <td>-1</td>\n",
       "      <td>283</td>\n",
       "      <td>-264</td>\n",
       "      <td>-400</td>\n",
       "      <td>-330</td>\n",
       "      <td>-168</td>\n",
       "      <td>101</td>\n",
       "      <td>74</td>\n",
       "      <td>...</td>\n",
       "      <td>169</td>\n",
       "      <td>837</td>\n",
       "      <td>-36</td>\n",
       "      <td>442</td>\n",
       "      <td>-17</td>\n",
       "      <td>782</td>\n",
       "      <td>295</td>\n",
       "      <td>11</td>\n",
       "      <td>76</td>\n",
       "      <td>-14</td>\n",
       "    </tr>\n",
       "    <tr>\n",
       "      <th>3</th>\n",
       "      <td>-76</td>\n",
       "      <td>-49</td>\n",
       "      <td>-307</td>\n",
       "      <td>309</td>\n",
       "      <td>-376</td>\n",
       "      <td>-650</td>\n",
       "      <td>33</td>\n",
       "      <td>-367</td>\n",
       "      <td>206</td>\n",
       "      <td>-215</td>\n",
       "      <td>...</td>\n",
       "      <td>315</td>\n",
       "      <td>1199</td>\n",
       "      <td>33</td>\n",
       "      <td>168</td>\n",
       "      <td>52</td>\n",
       "      <td>1138</td>\n",
       "      <td>777</td>\n",
       "      <td>41</td>\n",
       "      <td>228</td>\n",
       "      <td>-41</td>\n",
       "    </tr>\n",
       "  </tbody>\n",
       "</table>\n",
       "<p>5 rows × 7129 columns</p>\n",
       "</div>"
      ],
      "text/plain": [
       "                                                      0     \\\n",
       "Gene Description       AFFX-BioB-5_at (endogenous control)   \n",
       "Gene Accession Number                       AFFX-BioB-5_at   \n",
       "1                                                     -214   \n",
       "2                                                     -139   \n",
       "3                                                      -76   \n",
       "\n",
       "                                                      1     \\\n",
       "Gene Description       AFFX-BioB-M_at (endogenous control)   \n",
       "Gene Accession Number                       AFFX-BioB-M_at   \n",
       "1                                                     -153   \n",
       "2                                                      -73   \n",
       "3                                                      -49   \n",
       "\n",
       "                                                      2     \\\n",
       "Gene Description       AFFX-BioB-3_at (endogenous control)   \n",
       "Gene Accession Number                       AFFX-BioB-3_at   \n",
       "1                                                      -58   \n",
       "2                                                       -1   \n",
       "3                                                     -307   \n",
       "\n",
       "                                                      3     \\\n",
       "Gene Description       AFFX-BioC-5_at (endogenous control)   \n",
       "Gene Accession Number                       AFFX-BioC-5_at   \n",
       "1                                                       88   \n",
       "2                                                      283   \n",
       "3                                                      309   \n",
       "\n",
       "                                                      4     \\\n",
       "Gene Description       AFFX-BioC-3_at (endogenous control)   \n",
       "Gene Accession Number                       AFFX-BioC-3_at   \n",
       "1                                                     -295   \n",
       "2                                                     -264   \n",
       "3                                                     -376   \n",
       "\n",
       "                                                       5     \\\n",
       "Gene Description       AFFX-BioDn-5_at (endogenous control)   \n",
       "Gene Accession Number                       AFFX-BioDn-5_at   \n",
       "1                                                      -558   \n",
       "2                                                      -400   \n",
       "3                                                      -650   \n",
       "\n",
       "                                                       6     \\\n",
       "Gene Description       AFFX-BioDn-3_at (endogenous control)   \n",
       "Gene Accession Number                       AFFX-BioDn-3_at   \n",
       "1                                                       199   \n",
       "2                                                      -330   \n",
       "3                                                        33   \n",
       "\n",
       "                                                      7     \\\n",
       "Gene Description       AFFX-CreX-5_at (endogenous control)   \n",
       "Gene Accession Number                       AFFX-CreX-5_at   \n",
       "1                                                     -176   \n",
       "2                                                     -168   \n",
       "3                                                     -367   \n",
       "\n",
       "                                                      8     \\\n",
       "Gene Description       AFFX-CreX-3_at (endogenous control)   \n",
       "Gene Accession Number                       AFFX-CreX-3_at   \n",
       "1                                                      252   \n",
       "2                                                      101   \n",
       "3                                                      206   \n",
       "\n",
       "                                                      9     ...  \\\n",
       "Gene Description       AFFX-BioB-5_st (endogenous control)  ...   \n",
       "Gene Accession Number                       AFFX-BioB-5_st  ...   \n",
       "1                                                      206  ...   \n",
       "2                                                       74  ...   \n",
       "3                                                     -215  ...   \n",
       "\n",
       "                                                            7119  \\\n",
       "Gene Description       Transcription factor Stat5b (stat5b) mRNA   \n",
       "Gene Accession Number                                  U48730_at   \n",
       "1                                                            185   \n",
       "2                                                            169   \n",
       "3                                                            315   \n",
       "\n",
       "                                                      7120  \\\n",
       "Gene Description       Breast epithelial antigen BA46 mRNA   \n",
       "Gene Accession Number                            U58516_at   \n",
       "1                                                      511   \n",
       "2                                                      837   \n",
       "3                                                     1199   \n",
       "\n",
       "                                                                    7121  \\\n",
       "Gene Description       GB DEF = Calcium/calmodulin-dependent protein ...   \n",
       "Gene Accession Number                                          U73738_at   \n",
       "1                                                                   -125   \n",
       "2                                                                    -36   \n",
       "3                                                                     33   \n",
       "\n",
       "                                        7122  \\\n",
       "Gene Description       TUBULIN ALPHA-4 CHAIN   \n",
       "Gene Accession Number              X06956_at   \n",
       "1                                        389   \n",
       "2                                        442   \n",
       "3                                        168   \n",
       "\n",
       "                                                                    7123  \\\n",
       "Gene Description       CYP4B1 Cytochrome P450; subfamily IVB; polypep...   \n",
       "Gene Accession Number                                          X16699_at   \n",
       "1                                                                    -37   \n",
       "2                                                                    -17   \n",
       "3                                                                     52   \n",
       "\n",
       "                                                                    7124  \\\n",
       "Gene Description       PTGER3 Prostaglandin E receptor 3 (subtype EP3...   \n",
       "Gene Accession Number                                          X83863_at   \n",
       "1                                                                    793   \n",
       "2                                                                    782   \n",
       "3                                                                   1138   \n",
       "\n",
       "                                                                    7125  \\\n",
       "Gene Description       HMG2 High-mobility group (nonhistone chromosom...   \n",
       "Gene Accession Number                                          Z17240_at   \n",
       "1                                                                    329   \n",
       "2                                                                    295   \n",
       "3                                                                    777   \n",
       "\n",
       "                                                                7126  \\\n",
       "Gene Description       RB1 Retinoblastoma 1 (including osteosarcoma)   \n",
       "Gene Accession Number                                    L49218_f_at   \n",
       "1                                                                 36   \n",
       "2                                                                 11   \n",
       "3                                                                 41   \n",
       "\n",
       "                                                                    7127  \\\n",
       "Gene Description       GB DEF = Glycophorin Sta (type A) exons 3 and ...   \n",
       "Gene Accession Number                                        M71243_f_at   \n",
       "1                                                                    191   \n",
       "2                                                                     76   \n",
       "3                                                                    228   \n",
       "\n",
       "                                            7128  \n",
       "Gene Description       GB DEF = mRNA (clone 1A7)  \n",
       "Gene Accession Number                Z78285_f_at  \n",
       "1                                            -37  \n",
       "2                                            -14  \n",
       "3                                            -41  \n",
       "\n",
       "[5 rows x 7129 columns]"
      ]
     },
     "execution_count": 11,
     "metadata": {},
     "output_type": "execute_result"
    }
   ],
   "source": [
    "train_data.head()"
   ]
  },
  {
   "cell_type": "code",
   "execution_count": 12,
   "metadata": {},
   "outputs": [],
   "source": [
    "train_data.columns = test_data.iloc[1].values\n",
    "train_data.drop([\"Gene Description\", \"Gene Accession Number\"], axis=0, inplace=True)\n",
    "test_data.columns = test_data.iloc[1].values\n",
    "test_data.drop([\"Gene Description\", \"Gene Accession Number\"], axis=0, inplace=True)"
   ]
  },
  {
   "cell_type": "code",
   "execution_count": 13,
   "metadata": {},
   "outputs": [
    {
     "data": {
      "text/html": [
       "<div>\n",
       "<style scoped>\n",
       "    .dataframe tbody tr th:only-of-type {\n",
       "        vertical-align: middle;\n",
       "    }\n",
       "\n",
       "    .dataframe tbody tr th {\n",
       "        vertical-align: top;\n",
       "    }\n",
       "\n",
       "    .dataframe thead th {\n",
       "        text-align: right;\n",
       "    }\n",
       "</style>\n",
       "<table border=\"1\" class=\"dataframe\">\n",
       "  <thead>\n",
       "    <tr style=\"text-align: right;\">\n",
       "      <th></th>\n",
       "      <th>AFFX-BioB-5_at</th>\n",
       "      <th>AFFX-BioB-M_at</th>\n",
       "      <th>AFFX-BioB-3_at</th>\n",
       "      <th>AFFX-BioC-5_at</th>\n",
       "      <th>AFFX-BioC-3_at</th>\n",
       "      <th>AFFX-BioDn-5_at</th>\n",
       "      <th>AFFX-BioDn-3_at</th>\n",
       "      <th>AFFX-CreX-5_at</th>\n",
       "      <th>AFFX-CreX-3_at</th>\n",
       "      <th>AFFX-BioB-5_st</th>\n",
       "      <th>...</th>\n",
       "      <th>U48730_at</th>\n",
       "      <th>U58516_at</th>\n",
       "      <th>U73738_at</th>\n",
       "      <th>X06956_at</th>\n",
       "      <th>X16699_at</th>\n",
       "      <th>X83863_at</th>\n",
       "      <th>Z17240_at</th>\n",
       "      <th>L49218_f_at</th>\n",
       "      <th>M71243_f_at</th>\n",
       "      <th>Z78285_f_at</th>\n",
       "    </tr>\n",
       "  </thead>\n",
       "  <tbody>\n",
       "    <tr>\n",
       "      <th>1</th>\n",
       "      <td>-214</td>\n",
       "      <td>-153</td>\n",
       "      <td>-58</td>\n",
       "      <td>88</td>\n",
       "      <td>-295</td>\n",
       "      <td>-558</td>\n",
       "      <td>199</td>\n",
       "      <td>-176</td>\n",
       "      <td>252</td>\n",
       "      <td>206</td>\n",
       "      <td>...</td>\n",
       "      <td>185</td>\n",
       "      <td>511</td>\n",
       "      <td>-125</td>\n",
       "      <td>389</td>\n",
       "      <td>-37</td>\n",
       "      <td>793</td>\n",
       "      <td>329</td>\n",
       "      <td>36</td>\n",
       "      <td>191</td>\n",
       "      <td>-37</td>\n",
       "    </tr>\n",
       "    <tr>\n",
       "      <th>2</th>\n",
       "      <td>-139</td>\n",
       "      <td>-73</td>\n",
       "      <td>-1</td>\n",
       "      <td>283</td>\n",
       "      <td>-264</td>\n",
       "      <td>-400</td>\n",
       "      <td>-330</td>\n",
       "      <td>-168</td>\n",
       "      <td>101</td>\n",
       "      <td>74</td>\n",
       "      <td>...</td>\n",
       "      <td>169</td>\n",
       "      <td>837</td>\n",
       "      <td>-36</td>\n",
       "      <td>442</td>\n",
       "      <td>-17</td>\n",
       "      <td>782</td>\n",
       "      <td>295</td>\n",
       "      <td>11</td>\n",
       "      <td>76</td>\n",
       "      <td>-14</td>\n",
       "    </tr>\n",
       "    <tr>\n",
       "      <th>3</th>\n",
       "      <td>-76</td>\n",
       "      <td>-49</td>\n",
       "      <td>-307</td>\n",
       "      <td>309</td>\n",
       "      <td>-376</td>\n",
       "      <td>-650</td>\n",
       "      <td>33</td>\n",
       "      <td>-367</td>\n",
       "      <td>206</td>\n",
       "      <td>-215</td>\n",
       "      <td>...</td>\n",
       "      <td>315</td>\n",
       "      <td>1199</td>\n",
       "      <td>33</td>\n",
       "      <td>168</td>\n",
       "      <td>52</td>\n",
       "      <td>1138</td>\n",
       "      <td>777</td>\n",
       "      <td>41</td>\n",
       "      <td>228</td>\n",
       "      <td>-41</td>\n",
       "    </tr>\n",
       "    <tr>\n",
       "      <th>4</th>\n",
       "      <td>-135</td>\n",
       "      <td>-114</td>\n",
       "      <td>265</td>\n",
       "      <td>12</td>\n",
       "      <td>-419</td>\n",
       "      <td>-585</td>\n",
       "      <td>158</td>\n",
       "      <td>-253</td>\n",
       "      <td>49</td>\n",
       "      <td>31</td>\n",
       "      <td>...</td>\n",
       "      <td>240</td>\n",
       "      <td>835</td>\n",
       "      <td>218</td>\n",
       "      <td>174</td>\n",
       "      <td>-110</td>\n",
       "      <td>627</td>\n",
       "      <td>170</td>\n",
       "      <td>-50</td>\n",
       "      <td>126</td>\n",
       "      <td>-91</td>\n",
       "    </tr>\n",
       "    <tr>\n",
       "      <th>5</th>\n",
       "      <td>-106</td>\n",
       "      <td>-125</td>\n",
       "      <td>-76</td>\n",
       "      <td>168</td>\n",
       "      <td>-230</td>\n",
       "      <td>-284</td>\n",
       "      <td>4</td>\n",
       "      <td>-122</td>\n",
       "      <td>70</td>\n",
       "      <td>252</td>\n",
       "      <td>...</td>\n",
       "      <td>156</td>\n",
       "      <td>649</td>\n",
       "      <td>57</td>\n",
       "      <td>504</td>\n",
       "      <td>-26</td>\n",
       "      <td>250</td>\n",
       "      <td>314</td>\n",
       "      <td>14</td>\n",
       "      <td>56</td>\n",
       "      <td>-25</td>\n",
       "    </tr>\n",
       "  </tbody>\n",
       "</table>\n",
       "<p>5 rows × 7129 columns</p>\n",
       "</div>"
      ],
      "text/plain": [
       "  AFFX-BioB-5_at AFFX-BioB-M_at AFFX-BioB-3_at AFFX-BioC-5_at AFFX-BioC-3_at  \\\n",
       "1           -214           -153            -58             88           -295   \n",
       "2           -139            -73             -1            283           -264   \n",
       "3            -76            -49           -307            309           -376   \n",
       "4           -135           -114            265             12           -419   \n",
       "5           -106           -125            -76            168           -230   \n",
       "\n",
       "  AFFX-BioDn-5_at AFFX-BioDn-3_at AFFX-CreX-5_at AFFX-CreX-3_at  \\\n",
       "1            -558             199           -176            252   \n",
       "2            -400            -330           -168            101   \n",
       "3            -650              33           -367            206   \n",
       "4            -585             158           -253             49   \n",
       "5            -284               4           -122             70   \n",
       "\n",
       "  AFFX-BioB-5_st  ... U48730_at U58516_at U73738_at X06956_at X16699_at  \\\n",
       "1            206  ...       185       511      -125       389       -37   \n",
       "2             74  ...       169       837       -36       442       -17   \n",
       "3           -215  ...       315      1199        33       168        52   \n",
       "4             31  ...       240       835       218       174      -110   \n",
       "5            252  ...       156       649        57       504       -26   \n",
       "\n",
       "  X83863_at Z17240_at L49218_f_at M71243_f_at Z78285_f_at  \n",
       "1       793       329          36         191         -37  \n",
       "2       782       295          11          76         -14  \n",
       "3      1138       777          41         228         -41  \n",
       "4       627       170         -50         126         -91  \n",
       "5       250       314          14          56         -25  \n",
       "\n",
       "[5 rows x 7129 columns]"
      ]
     },
     "execution_count": 13,
     "metadata": {},
     "output_type": "execute_result"
    }
   ],
   "source": [
    "train_data.head()"
   ]
  },
  {
   "cell_type": "code",
   "execution_count": 14,
   "metadata": {},
   "outputs": [],
   "source": [
    "train_data[\"patient\"] = train_data.index.values\n",
    "test_data[\"patient\"] = test_data.index.values"
   ]
  },
  {
   "cell_type": "code",
   "execution_count": 15,
   "metadata": {},
   "outputs": [],
   "source": [
    "train_data = train_data.astype(\"int32\")\n",
    "test_data = test_data.astype(\"int32\")"
   ]
  },
  {
   "cell_type": "code",
   "execution_count": 16,
   "metadata": {},
   "outputs": [],
   "source": [
    "labels[\"cancer\"] = le.fit_transform(labels[\"cancer\"])\n",
    "train_data = pd.merge(train_data, labels, on=\"patient\")\n",
    "test_data = pd.merge(test_data, labels, on=\"patient\")"
   ]
  },
  {
   "cell_type": "code",
   "execution_count": 17,
   "metadata": {},
   "outputs": [
    {
     "data": {
      "text/plain": [
       "0    27\n",
       "1    11\n",
       "Name: cancer, dtype: int64"
      ]
     },
     "execution_count": 17,
     "metadata": {},
     "output_type": "execute_result"
    }
   ],
   "source": [
    "train_data[\"cancer\"].value_counts()"
   ]
  },
  {
   "cell_type": "code",
   "execution_count": 18,
   "metadata": {},
   "outputs": [
    {
     "data": {
      "text/plain": [
       "0    20\n",
       "1    14\n",
       "Name: cancer, dtype: int64"
      ]
     },
     "execution_count": 18,
     "metadata": {},
     "output_type": "execute_result"
    }
   ],
   "source": [
    "test_data[\"cancer\"].value_counts()"
   ]
  },
  {
   "cell_type": "code",
   "execution_count": 19,
   "metadata": {},
   "outputs": [
    {
     "data": {
      "image/png": "[encoded data removed]",
      "text/plain": [
       "<Figure size 1080x720 with 2 Axes>"
      ]
     },
     "metadata": {},
     "output_type": "display_data"
    }
   ],
   "source": [
    "fig, axs = plt.subplots(1, 2)\n",
    "sns.countplot(x=\"cancer\", data=train_data, ax=axs[0])\n",
    "axs[0].set_title(\"Train data\", fontsize=24)\n",
    "sns.countplot(x=\"cancer\", data=test_data, ax=axs[1])\n",
    "axs[1].set_title(\"Test data\", fontsize=24)\n",
    "plt.show()"
   ]
  },
  {
   "cell_type": "markdown",
   "metadata": {},
   "source": [
    "In test data we have $\\frac{ALL}{AML}$ ratio about $\\frac{20}{14}=1.43$ and in train $\\frac{27}{11}=2.45$. Lets use upsampling to combat class imbalance. I think here we can add about 8 additional random samples of **AML** class."
   ]
  },
  {
   "cell_type": "code",
   "execution_count": 31,
   "metadata": {},
   "outputs": [],
   "source": [
    "upsampled_data = random.sample(train_data.query(\"cancer == 1\")[\"patient\"].index.to_list(), k=8, )"
   ]
  },
  {
   "cell_type": "code",
   "execution_count": 32,
   "metadata": {},
   "outputs": [
    {
     "data": {
      "text/plain": [
       "[29, 28, 34, 35, 31, 33, 32, 36]"
      ]
     },
     "execution_count": 32,
     "metadata": {},
     "output_type": "execute_result"
    }
   ],
   "source": [
    "upsampled_data"
   ]
  },
  {
   "cell_type": "code",
   "execution_count": 33,
   "metadata": {},
   "outputs": [],
   "source": [
    "train_data_upsampled = pd.concat([train_data, train_data.iloc[upsampled_data, :]])"
   ]
  },
  {
   "cell_type": "code",
   "execution_count": 34,
   "metadata": {},
   "outputs": [
    {
     "data": {
      "image/png": "[encoded data removed]",
      "text/plain": [
       "<Figure size 1080x720 with 2 Axes>"
      ]
     },
     "metadata": {},
     "output_type": "display_data"
    }
   ],
   "source": [
    "fig, axs = plt.subplots(1, 2)\n",
    "sns.countplot(x=\"cancer\", data=train_data_upsampled, ax=axs[0])\n",
    "axs[0].set_title(\"Train data\", fontsize=24)\n",
    "sns.countplot(x=\"cancer\", data=test_data, ax=axs[1])\n",
    "axs[1].set_title(\"Test data\", fontsize=24)\n",
    "fig.suptitle(\"After upsampling\", fontsize=24)\n",
    "plt.show()"
   ]
  },
  {
   "cell_type": "markdown",
   "metadata": {},
   "source": [
    "Scaling the data."
   ]
  },
  {
   "cell_type": "code",
   "execution_count": 35,
   "metadata": {},
   "outputs": [],
   "source": [
    "X_train = train_data_upsampled.drop(columns=[\"patient\", \"cancer\"])\n",
    "y_train = train_data_upsampled[\"cancer\"]\n",
    "X_test = test_data.drop(columns=[\"patient\", \"cancer\"])\n",
    "y_test = test_data[\"cancer\"]"
   ]
  },
  {
   "cell_type": "code",
   "execution_count": 36,
   "metadata": {},
   "outputs": [],
   "source": [
    "# Features scaling\n",
    "sc = StandardScaler()\n",
    "X_train_scaled = sc.fit_transform(X_train)\n",
    "X_test_scaled = sc.transform(X_test)"
   ]
  },
  {
   "cell_type": "markdown",
   "metadata": {},
   "source": [
    "## Dimentionality reduction and clusterisation "
   ]
  },
  {
   "cell_type": "code",
   "execution_count": 37,
   "metadata": {},
   "outputs": [
    {
     "data": {
      "text/plain": [
       "KMeans(n_clusters=2, n_init=20)"
      ]
     },
     "execution_count": 37,
     "metadata": {},
     "output_type": "execute_result"
    }
   ],
   "source": [
    "reduced_train = PCA().fit_transform(X_train_scaled)\n",
    "kmeans = KMeans(n_clusters=2, n_init=20)\n",
    "kmeans.fit(train_data_upsampled)"
   ]
  },
  {
   "cell_type": "code",
   "execution_count": 38,
   "metadata": {},
   "outputs": [
    {
     "data": {
      "image/png": "[encoded data removed]",
      "text/plain": [
       "<Figure size 1080x720 with 1 Axes>"
      ]
     },
     "metadata": {},
     "output_type": "display_data"
    }
   ],
   "source": [
    "sns.scatterplot(x=reduced_train[0], y=reduced_train[1], hue=kmeans.labels_)\n",
    "plt.xticks(())\n",
    "plt.yticks(())\n",
    "plt.show()"
   ]
  },
  {
   "cell_type": "markdown",
   "metadata": {},
   "source": [
    "Seems like we can't define two clear clusters (at least by KMeans and using 2 PC for visualisation). It is not a problem now. Now I want to calculate PC so that they will explain at least 90% of variance and may be I can use them in downstream models."
   ]
  },
  {
   "cell_type": "code",
   "execution_count": 43,
   "metadata": {},
   "outputs": [
    {
     "name": "stdout",
     "output_type": "stream",
     "text": [
      "27 features explain around 90% of the variance. From 7129 features to 27\n"
     ]
    },
    {
     "data": {
      "image/png": "[encoded data removed]",
      "text/plain": [
       "<Figure size 1080x720 with 1 Axes>"
      ]
     },
     "metadata": {},
     "output_type": "display_data"
    }
   ],
   "source": [
    "pca = PCA()\n",
    "pca.fit_transform(X_train_scaled)\n",
    "total = sum(pca.explained_variance_)\n",
    "k = 0\n",
    "current_variance = 0\n",
    "while current_variance / total < 0.90:\n",
    "    current_variance += pca.explained_variance_[k]\n",
    "    k = k + 1   \n",
    "print(k, \" features explain around 90% of the variance. From 7129 features to \", k, sep='')\n",
    "\n",
    "pca = PCA(n_components=k)\n",
    "X_train_pca = pca.fit(X_train_scaled)\n",
    "X_train_pca = pca.transform(X_train_scaled)\n",
    "X_test_pca = pca.transform(X_test_scaled)\n",
    "\n",
    "var_exp = pca.explained_variance_ratio_.cumsum()\n",
    "var_exp = var_exp*100\n",
    "plt.bar(range(1, k + 1), var_exp, color=\"brown\")\n",
    "plt.xlabel(\"Cumulutive explained variance\", fontsize=18)\n",
    "plt.ylabel(\"Number of components\", fontsize=18)\n",
    "plt.xlim((0.5, k + 1))\n",
    "plt.show()"
   ]
  },
  {
   "cell_type": "markdown",
   "metadata": {},
   "source": [
    "Here we can take approximately 27 PC for downstream analysis. May be we will use them later."
   ]
  },
  {
   "cell_type": "markdown",
   "metadata": {},
   "source": [
    "#### Also it is interesting to see if hierarchial clusterisation give us 2 clusters based on cancer type."
   ]
  },
  {
   "cell_type": "code",
   "execution_count": 78,
   "metadata": {},
   "outputs": [],
   "source": [
    "cancer_labels = train_data_upsampled[\"cancer\"].map({0: le.classes_[0], 1: le.classes_[1]}).values\n",
    "patient_labels = np.array(list(map(str, train_data_upsampled[\"patient\"].values))).astype(\"object\") + \"_\" + cancer_labels"
   ]
  },
  {
   "cell_type": "markdown",
   "metadata": {},
   "source": [
    "#### Hierarchy"
   ]
  },
  {
   "cell_type": "code",
   "execution_count": 104,
   "metadata": {},
   "outputs": [],
   "source": [
    "link = linkage(X_train_scaled, 'ward', 'euclidean')"
   ]
  },
  {
   "cell_type": "code",
   "execution_count": 105,
   "metadata": {},
   "outputs": [
    {
     "data": {
      "image/png": "[encoded data removed]",
      "text/plain": [
       "<Figure size 1080x720 with 1 Axes>"
      ]
     },
     "metadata": {},
     "output_type": "display_data"
    }
   ],
   "source": [
    "dm = dendrogram(link, color_threshold=1250, labels=patient_labels)"
   ]
  },
  {
   "cell_type": "code",
   "execution_count": 106,
   "metadata": {},
   "outputs": [
    {
     "data": {
      "image/png": "[encoded data removed]",
      "text/plain": [
       "<Figure size 1080x720 with 1 Axes>"
      ]
     },
     "metadata": {},
     "output_type": "display_data"
    }
   ],
   "source": [
    "dist = link[:, 2]\n",
    "dist_rev = dist[::-1]\n",
    "idxs = range(1, len(dist) + 1)\n",
    "plt.plot(idxs, dist_rev, marker='o')\n",
    "plt.title('Distance between merged clusters')\n",
    "plt.xlabel('Step')\n",
    "plt.ylabel('Distance')\n",
    "plt.show()"
   ]
  },
  {
   "cell_type": "markdown",
   "metadata": {},
   "source": [
    "We can not to take right part of this plot into account (because it just a upsampled data). Dendrogram shows us that we can't extract two clusters based on cancer type, but the first large cluster contain almost only **ALL** and the second one contains both cancer types. Distance plot tells that it is a good way to distinguish 6 clusters. But it is just a preliminary analysis. Our main goal is build a classifier."
   ]
  },
  {
   "cell_type": "markdown",
   "metadata": {},
   "source": [
    "## Classification"
   ]
  },
  {
   "cell_type": "markdown",
   "metadata": {},
   "source": [
    "I will start with **random forest**, esimate feature importance and then try to build ensemble using different classifiers."
   ]
  },
  {
   "cell_type": "markdown",
   "metadata": {},
   "source": [
    "### Random forest"
   ]
  },
  {
   "cell_type": "code",
   "execution_count": 108,
   "metadata": {},
   "outputs": [],
   "source": [
    "rf_params = {\"bootstrap\": [False, True],\n",
    "             \"n_estimators\": [60, 70, 80, 90, 100],\n",
    "             \"max_features\": [0.6, 0.65, 0.7, 0.75, 0.8],\n",
    "             \"min_samples_leaf\": [8, 10, 12, 14],\n",
    "             \"min_samples_split\": [3, 5, 7]\n",
    "        }\n",
    "\n",
    "rf_search = GridSearchCV(estimator=RandomForestClassifier(), param_grid=rf_params, scoring=\"f1\")\n",
    "rf_search.fit(X_train_scaled, y_train)\n",
    "best_rf = rf_search.best_estimator_"
   ]
  },
  {
   "cell_type": "code",
   "execution_count": 151,
   "metadata": {},
   "outputs": [
    {
     "name": "stdout",
     "output_type": "stream",
     "text": [
      "Validation f1-score of RandomForest Classifier is 0.896551724137931\n",
      "\n",
      "Classification report :\n",
      "               precision    recall  f1-score   support\n",
      "\n",
      "           0       0.95      0.90      0.92        20\n",
      "           1       0.87      0.93      0.90        14\n",
      "\n",
      "    accuracy                           0.91        34\n",
      "   macro avg       0.91      0.91      0.91        34\n",
      "weighted avg       0.91      0.91      0.91        34\n",
      "\n"
     ]
    },
    {
     "data": {
      "image/png": "[encoded data removed]",
      "text/plain": [
       "<Figure size 1296x1008 with 3 Axes>"
      ]
     },
     "metadata": {},
     "output_type": "display_data"
    }
   ],
   "source": [
    "rf_prediction = best_rf.predict(X_test_scaled)\n",
    "f1_score = metrics.f1_score(y_test, rf_prediction)\n",
    "print('Validation f1-score of RandomForest Classifier is', f1_score)\n",
    "print (\"\\nClassification report :\\n\", metrics.classification_report(y_test, rf_prediction))\n",
    "\n",
    "# Confusion matrix\n",
    "plt.figure(figsize=(18, 14))\n",
    "plt.subplot(221)\n",
    "sns.heatmap(metrics.confusion_matrix(y_test, rf_prediction), annot=True, fmt = \"d\", linecolor=\"k\", linewidths=3)\n",
    "plt.title(\"CONFUSION MATRIX\", fontsize=20)\n",
    "\n",
    "# ROC curve\n",
    "rf_predicted_probs = best_rf.predict_proba(X_test_scaled)[:, 1]\n",
    "fpr, tpr, thresholds = metrics.roc_curve(y_test, rf_predicted_probs)\n",
    "plt.subplot(222)\n",
    "plt.plot(fpr, tpr, label = (\"Area_under the curve :\", metrics.auc(fpr, tpr)), color = \"r\")\n",
    "plt.plot([1,0], [1,0], linestyle = \"dashed\", color =\"k\")\n",
    "plt.legend(loc = \"best\")\n",
    "plt.xlabel('False Positive Rate')\n",
    "plt.ylabel('True Positive Rate')\n",
    "plt.title(\"ROC - CURVE & AREA UNDER CURVE\",fontsize=20)\n",
    "plt.show()"
   ]
  },
  {
   "cell_type": "code",
   "execution_count": 124,
   "metadata": {},
   "outputs": [
    {
     "name": "stdout",
     "output_type": "stream",
     "text": [
      "Quantity of features with 0 importance: 7104\n"
     ]
    }
   ],
   "source": [
    "print(f\"Quantity of features with 0 importance: {(best_rf.feature_importances_ == 0).sum()}\")"
   ]
  },
  {
   "cell_type": "markdown",
   "metadata": {},
   "source": [
    "We have a lot of unimportant genes, so we can look only at non null features (with 0 importance)."
   ]
  },
  {
   "cell_type": "code",
   "execution_count": 143,
   "metadata": {},
   "outputs": [],
   "source": [
    "mask = (best_rf.feature_importances_ != 0)\n",
    "importances = best_rf.feature_importances_[mask]\n",
    "feature_names = train_data.columns.values[:7129][mask]"
   ]
  },
  {
   "cell_type": "code",
   "execution_count": 161,
   "metadata": {},
   "outputs": [
    {
     "data": {
      "image/png": "[encoded data removed]",
      "text/plain": [
       "<Figure size 1296x864 with 1 Axes>"
      ]
     },
     "metadata": {},
     "output_type": "display_data"
    }
   ],
   "source": [
    "fig = plt.figure(figsize=(18, 12))\n",
    "ax = fig.add_subplot(111)\n",
    "sns.barplot(x=feature_names, y=importances)\n",
    "plt.ylabel(\"Feature importance\")\n",
    "plt.xlabel(\"Feature name\")\n",
    "plt.title(\"Feature importance\", fontsize=28)\n",
    "ax.set_xticklabels(feature_names, rotation = 45)\n",
    "plt.show()"
   ]
  },
  {
   "cell_type": "markdown",
   "metadata": {},
   "source": [
    "As we can see there are also lots of features with pretty low importance (about e-5), but also we can admit 4 genes, wich have a big contribution in cancer classification. So genes **X95735**, **M55150**, **X70297** and **M27891** contribute the most to the differences between **ALL** and **AML** cancer types in accordance with random forest classifier."
   ]
  },
  {
   "cell_type": "code",
   "execution_count": 165,
   "metadata": {},
   "outputs": [
    {
     "name": "stdout",
     "output_type": "stream",
     "text": [
      "Also accuracy score is: 0.9117647058823529\n"
     ]
    }
   ],
   "source": [
    "print(f\"Also accuracy score is: {metrics.accuracy_score(y_test, rf_prediction)}\")"
   ]
  },
  {
   "cell_type": "markdown",
   "metadata": {},
   "source": [
    "It is a good model, but I am going to build ensemle based on different classifiers and hope it can show better performance."
   ]
  },
  {
   "cell_type": "markdown",
   "metadata": {},
   "source": [
    "## Ensemble"
   ]
  },
  {
   "cell_type": "code",
   "execution_count": null,
   "metadata": {},
   "outputs": [],
   "source": [
    "from sklearn.neighbors import KNeighborsClassifier\n",
    "from sklearn.ensemble import RandomForestClassifier\n",
    "from sklearn.linear_model import LogisticRegression\n",
    "from sklearn.naive_bayes import GaussianNB\n",
    "from sklearn.ensemble import VotingClassifier"
   ]
  },
  {
   "cell_type": "markdown",
   "metadata": {},
   "source": [
    "I want to build 5 different classifiers, evaluate some metrics (f1 score) and then try to create ensemble."
   ]
  },
  {
   "cell_type": "markdown",
   "metadata": {},
   "source": [
    "#### KNN"
   ]
  },
  {
   "cell_type": "code",
   "execution_count": 167,
   "metadata": {},
   "outputs": [
    {
     "name": "stdout",
     "output_type": "stream",
     "text": [
      "Fitting 5 folds for each of 96 candidates, totalling 480 fits\n"
     ]
    },
    {
     "name": "stderr",
     "output_type": "stream",
     "text": [
      "[Parallel(n_jobs=-1)]: Using backend LokyBackend with 4 concurrent workers.\n",
      "[Parallel(n_jobs=-1)]: Done  76 tasks      | elapsed:    3.5s\n",
      "[Parallel(n_jobs=-1)]: Done 480 out of 480 | elapsed:    7.8s finished\n"
     ]
    }
   ],
   "source": [
    "knn_params = {\n",
    "    \"n_neighbors\": [i for i in range(1, 30, 5)],\n",
    "    \"weights\": [\"uniform\", \"distance\"],\n",
    "    \"algorithm\": [\"kd_tree\"],\n",
    "    \"leaf_size\": [1, 10, 20, 30],\n",
    "    \"p\": [1, 2]\n",
    "}\n",
    "knn_search = GridSearchCV(KNeighborsClassifier(), knn_params, n_jobs=-1, verbose=1, scoring=\"f1\")\n",
    "knn_search.fit(X_train_scaled, y_train)\n",
    "best_knn = knn_search.best_estimator_"
   ]
  },
  {
   "cell_type": "markdown",
   "metadata": {},
   "source": [
    "#### XGBOOST"
   ]
  },
  {
   "cell_type": "code",
   "execution_count": 177,
   "metadata": {},
   "outputs": [],
   "source": [
    "# xgb_params = {\"max_depth\": [3, 4, 5, 6, 7, 8, 10, 12],\n",
    "#               \"min_child_weight\": [1, 2, 4, 6, 8, 10, 12, 15],\n",
    "#               \"n_estimators\": [40, 50, 60, 70, 80, 90, 100, 110, 120, 130],\n",
    "#               \"learning_rate\": [0.001, 0.01, 0.05, 0.1, 0.2, 0.3]}\n",
    "# xgb_search = GridSearchCV(estimator=xgb.XGBClassifier(), param_grid=xgb_params, scoring=\"f1\")\n",
    "# xgb_search.fit(X_train_scaled, y_train)\n",
    "# best_xgb = xgb_search.best_estimator_"
   ]
  },
  {
   "cell_type": "markdown",
   "metadata": {},
   "source": [
    "It takes very long time on my machine, so I decided to interupt this."
   ]
  },
  {
   "cell_type": "markdown",
   "metadata": {},
   "source": [
    "#### Naive Bayes"
   ]
  },
  {
   "cell_type": "code",
   "execution_count": 178,
   "metadata": {},
   "outputs": [
    {
     "data": {
      "text/plain": [
       "GaussianNB()"
      ]
     },
     "execution_count": 178,
     "metadata": {},
     "output_type": "execute_result"
    }
   ],
   "source": [
    "nb_clf = GaussianNB()\n",
    "nb_clf.fit(X_train_scaled, y_train)"
   ]
  },
  {
   "cell_type": "markdown",
   "metadata": {},
   "source": [
    "#### Logistic Regression"
   ]
  },
  {
   "cell_type": "code",
   "execution_count": 180,
   "metadata": {},
   "outputs": [],
   "source": [
    "lr_params = {\"C\": [1e-03, 1e-2, 1e-1, 1, 10], \n",
    "      \"penalty\": [\"l1\", \"l2\"]}\n",
    "log_refr_search = GridSearchCV(estimator=LogisticRegression(), param_grid=lr_params, scoring=\"f1\")\n",
    "log_refr_search.fit(X_train_scaled, y_train)\n",
    "best_lr = log_refr_search.best_estimator_"
   ]
  },
  {
   "cell_type": "markdown",
   "metadata": {},
   "source": [
    "#### Builing an ensemble"
   ]
  },
  {
   "cell_type": "markdown",
   "metadata": {},
   "source": [
    "So now we have 4 different classifiers, some of them are good and the others are not and I want to use all of them to classify two cancer types. I will weigh my classifiers based on f1-score such that I will calculate mean f1-score and then divide f1-score of each model by mean, so the best estimator will have the higher weight."
   ]
  },
  {
   "cell_type": "code",
   "execution_count": 185,
   "metadata": {},
   "outputs": [],
   "source": [
    "rf_f1_score = metrics.f1_score(y_test, best_rf.predict(X_test_scaled))\n",
    "knn_f1_score = metrics.f1_score(y_test, best_knn.predict(X_test_scaled))\n",
    "nb_clf_f1_score = metrics.f1_score(y_test, nb_clf.predict(X_test_scaled))\n",
    "lr_f1_score = metrics.f1_score(y_test, best_lr.predict(X_test_scaled))"
   ]
  },
  {
   "cell_type": "code",
   "execution_count": 384,
   "metadata": {},
   "outputs": [],
   "source": [
    "mean_f1_score = np.mean([rf_f1_score, knn_f1_score, nb_clf_f1_score, lr_f1_score])\n",
    "weight_rf = rf_f1_score / mean_f1_score\n",
    "weight_knn = knn_f1_score / mean_f1_score\n",
    "weight_nb = nb_clf_f1_score / mean_f1_score\n",
    "weight_lr = lr_f1_score / mean_f1_score"
   ]
  },
  {
   "cell_type": "code",
   "execution_count": 385,
   "metadata": {},
   "outputs": [],
   "source": [
    "ensemble = VotingClassifier(estimators=[(\"rf\", best_rf), (\"knn\", best_knn), (\"nb\", nb_clf), (\"lr\", best_lr)],\n",
    "                                        voting=\"soft\", weights=[weight_rf, weight_knn, weight_nb, weight_lr])"
   ]
  },
  {
   "cell_type": "code",
   "execution_count": 386,
   "metadata": {},
   "outputs": [
    {
     "data": {
      "text/plain": [
       "VotingClassifier(estimators=[('rf',\n",
       "                              RandomForestClassifier(bootstrap=False,\n",
       "                                                     max_features=0.75,\n",
       "                                                     min_samples_leaf=10,\n",
       "                                                     min_samples_split=7,\n",
       "                                                     n_estimators=60)),\n",
       "                             ('knn',\n",
       "                              KNeighborsClassifier(algorithm='kd_tree',\n",
       "                                                   leaf_size=1, n_neighbors=26,\n",
       "                                                   p=1, weights='distance')),\n",
       "                             ('nb', GaussianNB()),\n",
       "                             ('lr', LogisticRegression(C=0.001))],\n",
       "                 voting='soft',\n",
       "                 weights=[1.1770822051337593, 0.6909996750785227,\n",
       "                          1.1770822051337593, 0.9548359146539586])"
      ]
     },
     "execution_count": 386,
     "metadata": {},
     "output_type": "execute_result"
    }
   ],
   "source": [
    "ensemble.fit(X_train_scaled, y_train)"
   ]
  },
  {
   "cell_type": "code",
   "execution_count": 387,
   "metadata": {},
   "outputs": [
    {
     "name": "stdout",
     "output_type": "stream",
     "text": [
      "Validation f1-score of Ensemble Classifier is 0.962962962962963\n",
      "\n",
      "Classification report :\n",
      "               precision    recall  f1-score   support\n",
      "\n",
      "           0       0.95      1.00      0.98        20\n",
      "           1       1.00      0.93      0.96        14\n",
      "\n",
      "    accuracy                           0.97        34\n",
      "   macro avg       0.98      0.96      0.97        34\n",
      "weighted avg       0.97      0.97      0.97        34\n",
      "\n"
     ]
    },
    {
     "data": {
      "image/png": "[encoded data removed]",
      "text/plain": [
       "<Figure size 1296x1008 with 3 Axes>"
      ]
     },
     "metadata": {},
     "output_type": "display_data"
    }
   ],
   "source": [
    "ens_prediction = ensemble.predict(X_test_scaled)\n",
    "f1_score = metrics.f1_score(y_test, ens_prediction)\n",
    "print('Validation f1-score of Ensemble Classifier is', f1_score)\n",
    "print (\"\\nClassification report :\\n\", metrics.classification_report(y_test, ens_prediction))\n",
    "\n",
    "# Confusion matrix\n",
    "plt.figure(figsize=(18, 14))\n",
    "plt.subplot(221)\n",
    "sns.heatmap(metrics.confusion_matrix(y_test, ens_prediction), annot=True, fmt = \"d\", linecolor=\"k\", linewidths=3)\n",
    "plt.title(\"CONFUSION MATRIX\", fontsize=20)\n",
    "\n",
    "# ROC curve\n",
    "ens_predicted_probs = ensemble.predict_proba(X_test_scaled)[:, 1]\n",
    "fpr, tpr, thresholds = metrics.roc_curve(y_test, ens_predicted_probs)\n",
    "plt.subplot(222)\n",
    "plt.plot(fpr, tpr, label = (\"Area_under the curve :\", metrics.auc(fpr, tpr)), color = \"r\")\n",
    "plt.plot([1,0], [1,0], linestyle = \"dashed\", color =\"k\")\n",
    "plt.legend(loc = \"best\")\n",
    "plt.xlabel('False Positive Rate')\n",
    "plt.ylabel('True Positive Rate')\n",
    "plt.title(\"ROC - CURVE & AREA UNDER CURVE\",fontsize=20)\n",
    "plt.show()"
   ]
  },
  {
   "cell_type": "markdown",
   "metadata": {},
   "source": [
    "As we can see Ensemble have shown the best performance. All metrics are cool. Thanks for your attention."
   ]
  },
  {
   "cell_type": "markdown",
   "metadata": {},
   "source": [
    "## Conclusion"
   ]
  },
  {
   "cell_type": "markdown",
   "metadata": {},
   "source": [
    "Results:\n",
    "\n",
    "1. RandomForest have shown a nice results: f1-score was 0.896 and other metrics were good too\n",
    "2. Also we got the most important genes for cancer type distinguishing: X95735, M55150, X70297 and M27891\n",
    "3. Then we built Ensemble classifier and it have performed pretty cool results (f1-score was 0.963)"
   ]
  },
  {
   "cell_type": "code",
   "execution_count": null,
   "metadata": {},
   "outputs": [],
   "source": []
  }
 ],
 "metadata": {
  "kernelspec": {
   "display_name": "Python 3",
   "language": "python",
   "name": "python3"
  },
  "language_info": {
   "codemirror_mode": {
    "name": "ipython",
    "version": 3
   },
   "file_extension": ".py",
   "mimetype": "text/x-python",
   "name": "python",
   "nbconvert_exporter": "python",
   "pygments_lexer": "ipython3",
   "version": "3.8.5"
  }
 },
 "nbformat": 4,
 "nbformat_minor": 4
}
